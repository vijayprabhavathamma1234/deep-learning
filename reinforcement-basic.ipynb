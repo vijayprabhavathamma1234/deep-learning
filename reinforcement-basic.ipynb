{
 "cells": [
  {
   "cell_type": "code",
   "execution_count": 1,
   "id": "33433b47",
   "metadata": {},
   "outputs": [],
   "source": []
  },
  {
   "cell_type": "code",
   "execution_count": 16,
   "id": "0e3d030b",
   "metadata": {},
   "outputs": [
    {
     "ename": "SyntaxError",
     "evalue": "invalid syntax (Temp/ipykernel_78532/2738939151.py, line 5)",
     "output_type": "error",
     "traceback": [
      "\u001b[1;36m  File \u001b[1;32m\"C:\\Users\\VGARLA~1\\AppData\\Local\\Temp/ipykernel_78532/2738939151.py\"\u001b[1;36m, line \u001b[1;32m5\u001b[0m\n\u001b[1;33m    def__init__ (self):\u001b[0m\n\u001b[1;37m                       ^\u001b[0m\n\u001b[1;31mSyntaxError\u001b[0m\u001b[1;31m:\u001b[0m invalid syntax\n"
     ]
    }
   ],
   "source": [
    "import random\n",
    "from typing import List\n",
    "\n",
    "class SampleEnvironment:\n",
    "    def__init__ (self):\n",
    "        \n",
    "        self.steps_left = 20\n",
    "        \n",
    "    def get_observations(self)-> List[float]:\n",
    "        return[0.0, 0.0, 0.0]\n",
    "    \n",
    "    def get_actions(self)-> List[int]:\n",
    "        return[0.1]\n",
    "    \n",
    "    def is_done(self)-> bool:\n",
    "        return self.steps_left==0\n",
    "    \n",
    "    def action(self, action:int)->float:\n",
    "        if self.is_done():\n",
    "            raise Exception(\"game is over\")\n",
    "            self.steps_left-=1\n",
    "            return random.random()          \n",
    "                       "
   ]
  },
  {
   "cell_type": "code",
   "execution_count": null,
   "id": "bafd8f0f",
   "metadata": {},
   "outputs": [],
   "source": []
  }
 ],
 "metadata": {
  "kernelspec": {
   "display_name": "Python 3 (ipykernel)",
   "language": "python",
   "name": "python3"
  },
  "language_info": {
   "codemirror_mode": {
    "name": "ipython",
    "version": 3
   },
   "file_extension": ".py",
   "mimetype": "text/x-python",
   "name": "python",
   "nbconvert_exporter": "python",
   "pygments_lexer": "ipython3",
   "version": "3.9.7"
  }
 },
 "nbformat": 4,
 "nbformat_minor": 5
}
